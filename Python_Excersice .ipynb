{
 "cells": [
  {
   "cell_type": "code",
   "execution_count": 1,
   "id": "66144b28",
   "metadata": {},
   "outputs": [],
   "source": [
    "# Write a program that takes an integer n and returns the sum of the first n natural numbers.\n",
    "def num(n):\n",
    "    x = []\n",
    "    for i in range(n):\n",
    "        if i <= n:\n",
    "            x.append((i * (i+1) // 2))\n",
    "        else:\n",
    "            return None\n",
    "    print(x)"
   ]
  },
  {
   "cell_type": "code",
   "execution_count": 2,
   "id": "b9717fbd",
   "metadata": {},
   "outputs": [
    {
     "name": "stdout",
     "output_type": "stream",
     "text": [
      "[0, 1, 3, 6, 10, 15, 21, 28, 36, 45]\n"
     ]
    }
   ],
   "source": [
    "num(10)"
   ]
  },
  {
   "cell_type": "code",
   "execution_count": 3,
   "id": "8cb61662",
   "metadata": {},
   "outputs": [],
   "source": [
    "# Write a program that takes a string as input and returns the number of vowels in the string.\n",
    "def numb(n):\n",
    "    return n*(n+1)//2"
   ]
  },
  {
   "cell_type": "code",
   "execution_count": 4,
   "id": "9a7f34e0",
   "metadata": {},
   "outputs": [
    {
     "data": {
      "text/plain": [
       "15"
      ]
     },
     "execution_count": 4,
     "metadata": {},
     "output_type": "execute_result"
    }
   ],
   "source": [
    "numb(5)"
   ]
  },
  {
   "cell_type": "code",
   "execution_count": 5,
   "id": "556a2457",
   "metadata": {},
   "outputs": [],
   "source": [
    "# Write a program that takes two lists as input and returns a new list that contains all the elements of the first list that are not in the second list.\n",
    "def vow(x):\n",
    "    l = 0\n",
    "    c = ['a','e','i','o','u']\n",
    "    for j in x:\n",
    "        if j in c:\n",
    "            l = l+1\n",
    "    return l\n",
    "        "
   ]
  },
  {
   "cell_type": "code",
   "execution_count": 6,
   "id": "a10c7bd0",
   "metadata": {},
   "outputs": [
    {
     "data": {
      "text/plain": [
       "5"
      ]
     },
     "execution_count": 6,
     "metadata": {},
     "output_type": "execute_result"
    }
   ],
   "source": [
    "vow('aeiou')"
   ]
  },
  {
   "cell_type": "code",
   "execution_count": 7,
   "id": "412294f8",
   "metadata": {},
   "outputs": [],
   "source": [
    "# Write a program that takes a list of numbers as input and returns the largest number in the list.\n",
    "def a(x,y):\n",
    "    l = []\n",
    "    for i in x:\n",
    "        if i not in y:\n",
    "            l.append(i)\n",
    "    print(l)"
   ]
  },
  {
   "cell_type": "code",
   "execution_count": 8,
   "id": "29adb6ad",
   "metadata": {},
   "outputs": [],
   "source": [
    "x = [1,2,3,4,5,6]\n",
    "y = [2,6,7,8,9,0]"
   ]
  },
  {
   "cell_type": "code",
   "execution_count": 9,
   "id": "76de5bf3",
   "metadata": {},
   "outputs": [
    {
     "name": "stdout",
     "output_type": "stream",
     "text": [
      "[1, 3, 4, 5]\n"
     ]
    }
   ],
   "source": [
    "a(x,y)"
   ]
  },
  {
   "cell_type": "code",
   "execution_count": 10,
   "id": "0b0d3e5c",
   "metadata": {},
   "outputs": [],
   "source": [
    "def b(x,y):\n",
    "    return [i for i in x if i in y]"
   ]
  },
  {
   "cell_type": "code",
   "execution_count": 11,
   "id": "9d03eb65",
   "metadata": {},
   "outputs": [
    {
     "data": {
      "text/plain": [
       "[2, 6]"
      ]
     },
     "execution_count": 11,
     "metadata": {},
     "output_type": "execute_result"
    }
   ],
   "source": [
    "b(x,y)"
   ]
  },
  {
   "cell_type": "code",
   "execution_count": 12,
   "id": "2844f70b",
   "metadata": {},
   "outputs": [],
   "source": [
    "def m(x):\n",
    "    b = x[5]\n",
    "    c = []\n",
    "    for i in x:\n",
    "        if i > b:\n",
    "            b = i\n",
    "    c.append(b)\n",
    "    print(c)\n",
    "    "
   ]
  },
  {
   "cell_type": "code",
   "execution_count": 13,
   "id": "f030d135",
   "metadata": {},
   "outputs": [
    {
     "name": "stdout",
     "output_type": "stream",
     "text": [
      "[6]\n"
     ]
    }
   ],
   "source": [
    "m(x)"
   ]
  },
  {
   "cell_type": "code",
   "execution_count": 14,
   "id": "e44d83aa",
   "metadata": {},
   "outputs": [],
   "source": [
    "def m(x):\n",
    "    return max(x)"
   ]
  },
  {
   "cell_type": "code",
   "execution_count": 15,
   "id": "1c82ca1c",
   "metadata": {},
   "outputs": [
    {
     "data": {
      "text/plain": [
       "6"
      ]
     },
     "execution_count": 15,
     "metadata": {},
     "output_type": "execute_result"
    }
   ],
   "source": [
    "m(x)"
   ]
  },
  {
   "cell_type": "code",
   "execution_count": 16,
   "id": "7e0864b5",
   "metadata": {},
   "outputs": [],
   "source": [
    "# Write a program that takes a list of numbers as input and returns a new list that contains only the even numbers from the original list.\n",
    "def even(x):\n",
    "    c = []\n",
    "    for i in x:\n",
    "        if i%2 == 0:\n",
    "            c.append(i)\n",
    "    return c"
   ]
  },
  {
   "cell_type": "code",
   "execution_count": 17,
   "id": "8c9aa331",
   "metadata": {},
   "outputs": [
    {
     "data": {
      "text/plain": [
       "[2, 4, 6]"
      ]
     },
     "execution_count": 17,
     "metadata": {},
     "output_type": "execute_result"
    }
   ],
   "source": [
    "even(x)"
   ]
  },
  {
   "cell_type": "code",
   "execution_count": 18,
   "id": "e78779b8",
   "metadata": {},
   "outputs": [],
   "source": [
    "# Write a program that takes a list of strings as input and returns a new list that contains only the strings that start with a given letter.\n",
    "def new(s):\n",
    "    l = []\n",
    "    f = ['a']\n",
    "    for i in s:\n",
    "        if i[0] == f[0]:\n",
    "            l.append(i)\n",
    "    print(l)"
   ]
  },
  {
   "cell_type": "code",
   "execution_count": 19,
   "id": "71f689a4",
   "metadata": {},
   "outputs": [],
   "source": [
    "s = ['abhi', 'rohan', 'vishal']"
   ]
  },
  {
   "cell_type": "code",
   "execution_count": 20,
   "id": "f95dc79f",
   "metadata": {},
   "outputs": [
    {
     "name": "stdout",
     "output_type": "stream",
     "text": [
      "['abhi']\n"
     ]
    }
   ],
   "source": [
    "new(s)"
   ]
  },
  {
   "cell_type": "code",
   "execution_count": 21,
   "id": "b65eda18",
   "metadata": {},
   "outputs": [
    {
     "data": {
      "text/plain": [
       "'a'"
      ]
     },
     "execution_count": 21,
     "metadata": {},
     "output_type": "execute_result"
    }
   ],
   "source": [
    "s[0][0]"
   ]
  },
  {
   "cell_type": "code",
   "execution_count": 22,
   "id": "2952efa8",
   "metadata": {},
   "outputs": [],
   "source": [
    "def let(a,v):\n",
    "    f=[]\n",
    "    for i in a:\n",
    "        if i[0] == v:\n",
    "            f.append(i)\n",
    "    print(f)\n",
    "            "
   ]
  },
  {
   "cell_type": "code",
   "execution_count": 27,
   "id": "c0f4cd52",
   "metadata": {},
   "outputs": [],
   "source": [
    "a = ['abhi', 'rohan', 'vishal', 'anivesh']\n",
    "v = 'a'"
   ]
  },
  {
   "cell_type": "code",
   "execution_count": 28,
   "id": "5186b8c1",
   "metadata": {},
   "outputs": [
    {
     "name": "stdout",
     "output_type": "stream",
     "text": [
      "['abhi', 'anivesh']\n"
     ]
    }
   ],
   "source": [
    "let(a,v)"
   ]
  },
  {
   "cell_type": "code",
   "execution_count": 31,
   "id": "b5ca9785",
   "metadata": {},
   "outputs": [],
   "source": [
    "# Write a program that takes a string as input and returns the reverse of the string.\n",
    "def rev(c):\n",
    "    b = \"\"\n",
    "    for i in c:\n",
    "        b = i + b\n",
    "    return b"
   ]
  },
  {
   "cell_type": "code",
   "execution_count": 32,
   "id": "c4cf4ad1",
   "metadata": {},
   "outputs": [
    {
     "data": {
      "text/plain": [
       "'kehsihba'"
      ]
     },
     "execution_count": 32,
     "metadata": {},
     "output_type": "execute_result"
    }
   ],
   "source": [
    "rev(c)"
   ]
  },
  {
   "cell_type": "code",
   "execution_count": 33,
   "id": "dd383b81",
   "metadata": {},
   "outputs": [],
   "source": [
    "# Write a program that takes a list of numbers as input and returns the mean (average) of the numbers.\n",
    "def mean(x):\n",
    "    count = 0\n",
    "    for i in x:\n",
    "        count += i\n",
    "    return count/len(x)\n",
    "        "
   ]
  },
  {
   "cell_type": "code",
   "execution_count": 34,
   "id": "010b3c73",
   "metadata": {},
   "outputs": [],
   "source": [
    "x = [1,2,3,4,5,6,7,8,9,10]"
   ]
  },
  {
   "cell_type": "code",
   "execution_count": 35,
   "id": "ae9f00a4",
   "metadata": {},
   "outputs": [
    {
     "data": {
      "text/plain": [
       "5.5"
      ]
     },
     "execution_count": 35,
     "metadata": {},
     "output_type": "execute_result"
    }
   ],
   "source": [
    "mean(x)"
   ]
  },
  {
   "cell_type": "code",
   "execution_count": 36,
   "id": "ddd3da38",
   "metadata": {},
   "outputs": [
    {
     "name": "stdout",
     "output_type": "stream",
     "text": [
      "7.0\n"
     ]
    }
   ],
   "source": [
    "# Write a program that takes a list of numbers as input and returns the median of the numbers.\n",
    "x = [1,3,2,6,8,10,12,18]\n",
    "x.sort(reverse= True)\n",
    "\n",
    "if len(x)%2 ==0:\n",
    "    med1 = x[len(x)//2]\n",
    "    med2 = x[len(x)//2 -1]\n",
    "    median = (med1+med2) / 2\n",
    "else:\n",
    "    median = x[len(x)//2]\n",
    "print(median)"
   ]
  },
  {
   "cell_type": "code",
   "execution_count": 37,
   "id": "2f90c5d9",
   "metadata": {},
   "outputs": [],
   "source": [
    "import numpy as np\n",
    "def median(x):\n",
    "    return np.median(x)"
   ]
  },
  {
   "cell_type": "code",
   "execution_count": 38,
   "id": "c416a4e2",
   "metadata": {},
   "outputs": [
    {
     "data": {
      "text/plain": [
       "7.0"
      ]
     },
     "execution_count": 38,
     "metadata": {},
     "output_type": "execute_result"
    }
   ],
   "source": [
    "median(x)"
   ]
  },
  {
   "cell_type": "code",
   "execution_count": 39,
   "id": "765e570a",
   "metadata": {},
   "outputs": [],
   "source": [
    "# Write a program that takes a list of numbers as input and returns the mode of the numbers.\n",
    "def dic(n):\n",
    "    m = {}\n",
    "    for i in n:\n",
    "        if i not in m:\n",
    "            m[i] = 1\n",
    "        elif i in m:\n",
    "            m[i] += 1 \n",
    "    ma = max(m.values())\n",
    "    z = [k for k,v in m.items() if v == ma]\n",
    "    return z"
   ]
  },
  {
   "cell_type": "code",
   "execution_count": 40,
   "id": "e9fc4224",
   "metadata": {},
   "outputs": [],
   "source": [
    "n = [1,1,1,1,3,3,3,3,33,3,3,3,3,3,3,3,3,3,4,5,6]"
   ]
  },
  {
   "cell_type": "code",
   "execution_count": 41,
   "id": "d9e0190b",
   "metadata": {},
   "outputs": [
    {
     "data": {
      "text/plain": [
       "[3]"
      ]
     },
     "execution_count": 41,
     "metadata": {},
     "output_type": "execute_result"
    }
   ],
   "source": [
    "dic(n)"
   ]
  },
  {
   "cell_type": "code",
   "execution_count": 42,
   "id": "c7c372d2",
   "metadata": {},
   "outputs": [],
   "source": [
    "# Write a program that takes a list of integers and returns a new list with the square of each integer.\n",
    "\n",
    "def sqr(a):\n",
    "    sq = []\n",
    "    for i in a:\n",
    "        sq.append(i**2)\n",
    "    print(sq)"
   ]
  },
  {
   "cell_type": "code",
   "execution_count": 43,
   "id": "33884ca6",
   "metadata": {},
   "outputs": [
    {
     "name": "stdout",
     "output_type": "stream",
     "text": [
      "[4, 16, 36, 64, 81, 144, 1089, 1936]\n"
     ]
    }
   ],
   "source": [
    "sqr([2,4,6,8,9,12,33,44])"
   ]
  },
  {
   "cell_type": "code",
   "execution_count": 44,
   "id": "c26ba1d8",
   "metadata": {},
   "outputs": [],
   "source": [
    "# Write a program that takes a list of strings and returns a new list with the length of each string.\n",
    "a = ['abhi','vishal','rohan reddy', 'Anivesh']\n",
    "def l(a):\n",
    "    le = []\n",
    "    count = 0\n",
    "    for i in a:\n",
    "        le.append(len(i))\n",
    "    print(le)\n",
    "        "
   ]
  },
  {
   "cell_type": "code",
   "execution_count": 45,
   "id": "1138858b",
   "metadata": {},
   "outputs": [
    {
     "name": "stdout",
     "output_type": "stream",
     "text": [
      "[4, 6, 11, 7]\n"
     ]
    }
   ],
   "source": [
    "l(a)"
   ]
  },
  {
   "cell_type": "code",
   "execution_count": 49,
   "id": "223bb747",
   "metadata": {},
   "outputs": [],
   "source": [
    "# Write a program that takes a list of integers and returns a new list with only the numbers that are divisible by a given divisor.\n",
    "x = [ 12,21,32,45,50,60,72]\n",
    "def div(x):\n",
    "    y = []\n",
    "    a = int(input('Give a number : '))\n",
    "    for i in x:\n",
    "        if i % a == 0:\n",
    "            y.append(i)\n",
    "    return y"
   ]
  },
  {
   "cell_type": "code",
   "execution_count": 51,
   "id": "a2faa0c6",
   "metadata": {},
   "outputs": [
    {
     "name": "stdout",
     "output_type": "stream",
     "text": [
      "Give a number : 2\n"
     ]
    },
    {
     "data": {
      "text/plain": [
       "[12, 32, 50, 60, 72]"
      ]
     },
     "execution_count": 51,
     "metadata": {},
     "output_type": "execute_result"
    }
   ],
   "source": [
    "div(x)"
   ]
  },
  {
   "cell_type": "code",
   "execution_count": 52,
   "id": "44077381",
   "metadata": {},
   "outputs": [],
   "source": [
    "# Write a program that takes a list of numbers and returns the product of all the numbers in the list.\n",
    "x = [2,4,3,5,6,2]\n",
    "def pro(x):\n",
    "    y = 1\n",
    "    for i in x:\n",
    "        y *= i \n",
    "    return y\n"
   ]
  },
  {
   "cell_type": "code",
   "execution_count": 53,
   "id": "00c0687e",
   "metadata": {},
   "outputs": [
    {
     "data": {
      "text/plain": [
       "1440"
      ]
     },
     "execution_count": 53,
     "metadata": {},
     "output_type": "execute_result"
    }
   ],
   "source": [
    "pro(x)"
   ]
  },
  {
   "cell_type": "code",
   "execution_count": 54,
   "id": "ae8b7c5f",
   "metadata": {},
   "outputs": [],
   "source": [
    "# Write a program that takes a string and returns the number of occurrences of a given substring within the string.\n",
    "def string(x,y):\n",
    "    count = 0\n",
    "    for i in range(len(x)):\n",
    "        if x[i:i + len(y)] == y:\n",
    "            count += 1\n",
    "    return count"
   ]
  },
  {
   "cell_type": "code",
   "execution_count": 55,
   "id": "4f9e37f0",
   "metadata": {},
   "outputs": [
    {
     "data": {
      "text/plain": [
       "2"
      ]
     },
     "execution_count": 55,
     "metadata": {},
     "output_type": "execute_result"
    }
   ],
   "source": [
    "x = \"hi, abhi. How are you abhi\"\n",
    "y = \"abhi\"\n",
    "string(x,y)"
   ]
  },
  {
   "cell_type": "code",
   "execution_count": 56,
   "id": "9e85f4e1",
   "metadata": {},
   "outputs": [],
   "source": [
    "# Write a program that takes a list of strings and returns the longest string in the list.\n",
    "def strn(x):\n",
    "    a = ''\n",
    "    b = []\n",
    "    for i in x:\n",
    "        if len(i) > len(a):\n",
    "            a = i\n",
    "            b.append(i)\n",
    "    return b\n",
    "            "
   ]
  },
  {
   "cell_type": "code",
   "execution_count": 57,
   "id": "6aa2bca2",
   "metadata": {},
   "outputs": [],
   "source": [
    "x= ['texting', 'red', 'oracle', 'list']"
   ]
  },
  {
   "cell_type": "code",
   "execution_count": 58,
   "id": "485ffce6",
   "metadata": {},
   "outputs": [
    {
     "data": {
      "text/plain": [
       "['texting']"
      ]
     },
     "execution_count": 58,
     "metadata": {},
     "output_type": "execute_result"
    }
   ],
   "source": [
    "strn(x)"
   ]
  },
  {
   "cell_type": "code",
   "execution_count": 59,
   "id": "0cef76a0",
   "metadata": {},
   "outputs": [
    {
     "data": {
      "text/plain": [
       "array([ 3,  4,  5,  6,  7, 34, 43, 88])"
      ]
     },
     "execution_count": 59,
     "metadata": {},
     "output_type": "execute_result"
    }
   ],
   "source": [
    "# Write a program that takes a list of numbers and returns a new list with only the unique numbers from the original list.\n",
    "\n",
    "x = [7,88,34,34,43,3,3,4,4,5,6,]\n",
    "import numpy as np \n",
    "np.unique(x)"
   ]
  },
  {
   "cell_type": "code",
   "execution_count": 60,
   "id": "e88b113e",
   "metadata": {},
   "outputs": [],
   "source": [
    "# Write a program that takes two lists of equal length and returns a new list with the corresponding elements of the two lists added together.\n",
    "def new_list(a,b):\n",
    "    result = []\n",
    "    for i in range(len(a)):\n",
    "        result.append(a[i] + b[i])\n",
    "    return result"
   ]
  },
  {
   "cell_type": "code",
   "execution_count": 61,
   "id": "7f8e412f",
   "metadata": {},
   "outputs": [
    {
     "data": {
      "text/plain": [
       "[6, 8, 10, 12]"
      ]
     },
     "execution_count": 61,
     "metadata": {},
     "output_type": "execute_result"
    }
   ],
   "source": [
    "a = [1,2,3,4]\n",
    "b = [5,6,7,8]\n",
    "new_list(a,b)"
   ]
  },
  {
   "cell_type": "code",
   "execution_count": 62,
   "id": "3d9d0a9d",
   "metadata": {},
   "outputs": [],
   "source": [
    "# Write a program that takes a string as input and returns a new string with all the vowels removed.\n",
    "def string_vow(a):\n",
    "    vow  ='aeiou'\n",
    "    new = ''\n",
    "    for i in a:\n",
    "        if i not in vow:\n",
    "            new = new + i\n",
    "    return new"
   ]
  },
  {
   "cell_type": "code",
   "execution_count": 63,
   "id": "ad8cf28d",
   "metadata": {},
   "outputs": [
    {
     "data": {
      "text/plain": [
       "'h, hw r y'"
      ]
     },
     "execution_count": 63,
     "metadata": {},
     "output_type": "execute_result"
    }
   ],
   "source": [
    "a = 'hi, how are you'\n",
    "string_vow(a)"
   ]
  },
  {
   "cell_type": "code",
   "execution_count": 64,
   "id": "fc44a807",
   "metadata": {},
   "outputs": [],
   "source": [
    "# Write a program that takes a list of integers and returns the second largest number in the list.\n",
    "def list_lar(a):\n",
    "    sorted_numbers = sorted(a)\n",
    "    return sorted_numbers[1]"
   ]
  },
  {
   "cell_type": "code",
   "execution_count": 65,
   "id": "d6eb8dce",
   "metadata": {},
   "outputs": [
    {
     "data": {
      "text/plain": [
       "6"
      ]
     },
     "execution_count": 65,
     "metadata": {},
     "output_type": "execute_result"
    }
   ],
   "source": [
    "a = [55,65,77,34,5,6,44]\n",
    "list_lar(a)"
   ]
  }
 ],
 "metadata": {
  "kernelspec": {
   "display_name": "Python 3 (ipykernel)",
   "language": "python",
   "name": "python3"
  },
  "language_info": {
   "codemirror_mode": {
    "name": "ipython",
    "version": 3
   },
   "file_extension": ".py",
   "mimetype": "text/x-python",
   "name": "python",
   "nbconvert_exporter": "python",
   "pygments_lexer": "ipython3",
   "version": "3.9.16"
  }
 },
 "nbformat": 4,
 "nbformat_minor": 5
}
